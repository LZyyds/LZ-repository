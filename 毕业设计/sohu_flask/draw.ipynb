{
 "cells": [
  {
   "cell_type": "code",
   "execution_count": 10,
   "metadata": {
    "collapsed": true,
    "ExecuteTime": {
     "start_time": "2024-04-29T00:35:14.396772Z",
     "end_time": "2024-04-29T00:35:15.101359Z"
    }
   },
   "outputs": [
    {
     "name": "stderr",
     "output_type": "stream",
     "text": [
      "C:\\Users\\LZ\\AppData\\Local\\Temp\\ipykernel_6400\\3936520781.py:34: UserWarning: pandas only supports SQLAlchemy connectable (engine/connection) or database string URI or sqlite3 DBAPI2 connection. Other DBAPI2 objects are not tested. Please consider using SQLAlchemy.\n",
      "  df = pd.read_sql(sql,conn)\n"
     ]
    },
    {
     "name": "stdout",
     "output_type": "stream",
     "text": [
      "        发布省份  count\n",
      "0        北京市  10942\n",
      "2        上海市   6616\n",
      "3        山东省   4160\n",
      "4        广东省   3539\n",
      "5        四川省   2126\n",
      "6        山西省    946\n",
      "7        江苏省    909\n",
      "8        河南省    853\n",
      "9        湖北省    816\n",
      "10       江西省    759\n",
      "11       河北省    508\n",
      "12       福建省    460\n",
      "13      黑龙江省    373\n",
      "14       安徽省    364\n",
      "15       重庆市    325\n",
      "16       天津市    309\n",
      "17       湖南省    307\n",
      "18       浙江省    286\n",
      "19       辽宁省    283\n",
      "20       云南省    223\n",
      "21       陕西省    202\n",
      "22       贵州省    124\n",
      "23   广西壮族自治区     95\n",
      "24       海南省     65\n",
      "25       吉林省     59\n",
      "26       甘肃省     52\n",
      "27    内蒙古自治区     28\n",
      "29      中国香港     11\n",
      "30   宁夏回族自治区      7\n",
      "31  新疆维吾尔自治区      5\n",
      "36      中国台湾      2\n"
     ]
    }
   ],
   "source": [
    "import pandas as pd\n",
    "import pymysql\n",
    "# 数据库连接信息\n",
    "mysql_connect_config = {\n",
    "    'host': 'localhost',\n",
    "    'user': 'root',\n",
    "    'password': '123456',\n",
    "    'database': 'sohu',\n",
    "}\n",
    "# 连接到数据库\n",
    "conn = pymysql.connect(host=mysql_connect_config['host'],\n",
    "                               user=mysql_connect_config['user'],\n",
    "                               password=mysql_connect_config['password'],\n",
    "                               database=mysql_connect_config['database'],\n",
    "                               charset='utf8mb4')\n",
    "\n",
    "# 执行SQL查询\n",
    "sql = '''\n",
    "SELECT `发布省份`,count(*) AS count\n",
    "FROM (\n",
    "  SELECT `发布省份` FROM `新闻`\n",
    "  UNION ALL\n",
    "  SELECT `发布省份` FROM `娱乐`\n",
    "  UNION ALL\n",
    "  SELECT `发布省份` FROM `汽车`\n",
    "  UNION ALL\n",
    "  SELECT `发布省份` FROM `科技`\n",
    "  UNION ALL\n",
    "  SELECT `发布省份` FROM `财经`\n",
    ") combined_tables\n",
    "GROUP BY `发布省份` ORDER BY count DESC;\n",
    "'''\n",
    "\n",
    "df = pd.read_sql(sql,conn)\n",
    "\n",
    "# 关闭数据库连接\n",
    "conn.close()\n",
    "exclude_list = ['', None, '美国', '阿联酋', '加拿大', '德国', '新加坡', '马来西亚', '西班牙', '南非', '法国', '日本', '泰国']\n",
    "filtered_df = df[~df['发布省份'].isin(exclude_list)]\n",
    "print(filtered_df)"
   ]
  },
  {
   "cell_type": "code",
   "execution_count": 21,
   "outputs": [
    {
     "name": "stderr",
     "output_type": "stream",
     "text": [
      "C:\\Users\\LZ\\AppData\\Local\\Temp\\ipykernel_21800\\4279615818.py:36: UserWarning: pandas only supports SQLAlchemy connectable (engine/connection) or database string URI or sqlite3 DBAPI2 connection. Other DBAPI2 objects are not tested. Please consider using SQLAlchemy.\n",
      "  df = pd.read_sql(sql,conn)\n"
     ]
    },
    {
     "data": {
      "text/plain": "'D:\\\\Python3.8\\\\pythonProject\\\\practices\\\\LZ-repository\\\\毕业设计\\\\sohu_flask\\\\map_chart.html'"
     },
     "execution_count": 21,
     "metadata": {},
     "output_type": "execute_result"
    }
   ],
   "source": [
    "from pyecharts.charts import Map\n",
    "from pyecharts import options as opts\n",
    "import pandas as pd\n",
    "import pymysql\n",
    "# 数据库连接信息\n",
    "mysql_connect_config = {\n",
    "    'host': 'localhost',\n",
    "    'user': 'root',\n",
    "    'password': '123456',\n",
    "    'database': 'sohu',\n",
    "}\n",
    "# 连接到数据库\n",
    "conn = pymysql.connect(host=mysql_connect_config['host'],\n",
    "                               user=mysql_connect_config['user'],\n",
    "                               password=mysql_connect_config['password'],\n",
    "                               database=mysql_connect_config['database'],\n",
    "                               charset='utf8mb4')\n",
    "\n",
    "# 执行SQL查询\n",
    "sql = '''\n",
    "SELECT `发布省份`,count(*) AS count\n",
    "FROM (\n",
    "  SELECT `发布省份` FROM `新闻`\n",
    "  UNION ALL\n",
    "  SELECT `发布省份` FROM `娱乐`\n",
    "  UNION ALL\n",
    "  SELECT `发布省份` FROM `汽车`\n",
    "  UNION ALL\n",
    "  SELECT `发布省份` FROM `科技`\n",
    "  UNION ALL\n",
    "  SELECT `发布省份` FROM `财经`\n",
    ") combined_tables\n",
    "GROUP BY `发布省份` ORDER BY count DESC;\n",
    "'''\n",
    "\n",
    "df = pd.read_sql(sql,conn)\n",
    "\n",
    "# 关闭数据库连接\n",
    "conn.close()\n",
    "exclude_list = ['', None, '美国', '阿联酋', '加拿大', '德国', '新加坡', '马来西亚', '西班牙', '南非', '法国', '日本', '泰国', '北京市']\n",
    "filtered_df = df[~df['发布省份'].isin(exclude_list)]\n",
    "# print(filtered_df)\n",
    "\n",
    "# 创建地图实例，并设置地图类型为中国地图\n",
    "map_chart = Map(init_opts=opts.InitOpts(width=\"800px\",height=\"400px\"))\n",
    "map_chart.add(\"发布数量\",filtered_df.values.tolist(),\"china\")\n",
    "\n",
    "# 设置系列配置项\n",
    "map_chart.set_series_opts(label_opts=opts.LabelOpts(is_show=False))\n",
    "map_chart.set_global_opts(title_opts=opts.TitleOpts(title=\"发布数量统计\"),visualmap_opts=opts.VisualMapOpts(max_=max(filtered_df[\"count\"])*2/3))\n",
    "\n",
    "# 保存为html文件（可选）\n",
    "map_chart.render(\"map_chart.html\")"
   ],
   "metadata": {
    "collapsed": false,
    "ExecuteTime": {
     "start_time": "2024-04-29T23:38:52.659251Z",
     "end_time": "2024-04-29T23:38:53.509978Z"
    }
   }
  },
  {
   "cell_type": "code",
   "execution_count": 16,
   "outputs": [
    {
     "name": "stderr",
     "output_type": "stream",
     "text": [
      "C:\\Users\\LZ\\AppData\\Local\\Temp\\ipykernel_21800\\578746150.py:25: UserWarning: pandas only supports SQLAlchemy connectable (engine/connection) or database string URI or sqlite3 DBAPI2 connection. Other DBAPI2 objects are not tested. Please consider using SQLAlchemy.\n",
      "  df = pd.read_sql(sql,conn)\n"
     ]
    },
    {
     "data": {
      "text/plain": "'D:\\\\Python3.8\\\\pythonProject\\\\practices\\\\LZ-repository\\\\毕业设计\\\\sohu_flask\\\\time_count_chart.html'"
     },
     "execution_count": 16,
     "metadata": {},
     "output_type": "execute_result"
    }
   ],
   "source": [
    "import pandas as pd\n",
    "from pyecharts.charts import Line\n",
    "from pyecharts import options as opts\n",
    "from pyecharts.globals import ThemeType\n",
    "\n",
    "# 执行SQL查询\n",
    "sql = '''\n",
    "SELECT DATE(`发布时间`) AS date,COUNT(*) AS count\n",
    "FROM (\n",
    "SELECT `发布时间` FROM `新闻`\n",
    "UNION ALL\n",
    "SELECT `发布时间` FROM `娱乐`\n",
    "UNION ALL\n",
    "SELECT `发布时间` FROM `汽车`\n",
    "UNION ALL\n",
    "SELECT `发布时间` FROM `科技`\n",
    "UNION ALL\n",
    "SELECT `发布时间` FROM `财经`\n",
    ") AS combined_tables\n",
    "GROUP BY date\n",
    "ORDER BY date;\n",
    "'''\n",
    "\n",
    "# 将查询结果转换为Pandas的DataFrame对象\n",
    "df = pd.read_sql(sql,conn)\n",
    "\n",
    "# 将日期列转换为日期类型\n",
    "df['date'] = pd.to_datetime(df['date'])\n",
    "\n",
    "# 创建Pyecharts的折线图对象\n",
    "line = Line(init_opts=opts.InitOpts(theme=ThemeType.LIGHT))\n",
    "line.add_xaxis(df['date'].dt.strftime('%Y-%m-%d'))\n",
    "line.add_yaxis(\"数量\",df['count'].tolist(),linestyle_opts=opts.LineStyleOpts(width=2))\n",
    "\n",
    "# 设置x轴起始时间和坐标轴倾斜角度\n",
    "line.set_global_opts(\n",
    "   xaxis_opts=opts.AxisOpts(\n",
    "       type_=\"category\",\n",
    "       min_=\"2024-03-19\",\n",
    "       name=\"日期\",  # 设置x轴名称\n",
    "       axislabel_opts=opts.LabelOpts(rotate=-30)  # 设置x轴标签倾斜角度\n",
    "\n",
    "   ),\n",
    "   title_opts=opts.TitleOpts(title=\"时间与统计数量关系图\"),\n",
    "   yaxis_opts=opts.AxisOpts(type_=\"value\", name=\"统计量\")\n",
    ")\n",
    "# 计算数量列的平均值\n",
    "average_count = df['count'].mean()\n",
    "\n",
    "# 在折线图上添加平均线\n",
    "line.set_series_opts(\n",
    "   markline_opts=opts.MarkLineOpts(\n",
    "       data=[opts.MarkLineItem(y=average_count,name=\"平均值\")]\n",
    "   )\n",
    ")\n",
    "# 渲染图表\n",
    "line.render('time_count_chart.html')"
   ],
   "metadata": {
    "collapsed": false,
    "ExecuteTime": {
     "start_time": "2024-04-29T23:28:04.086658Z",
     "end_time": "2024-04-29T23:28:04.833600Z"
    }
   }
  },
  {
   "cell_type": "code",
   "execution_count": 3,
   "outputs": [
    {
     "name": "stderr",
     "output_type": "stream",
     "text": [
      "C:\\Users\\LZ\\AppData\\Local\\Temp\\ipykernel_19476\\2787232534.py:38: UserWarning: pandas only supports SQLAlchemy connectable (engine/connection) or database string URI or sqlite3 DBAPI2 connection. Other DBAPI2 objects are not tested. Please consider using SQLAlchemy.\n",
      "  df = pd.read_sql(sql,conn)\n"
     ]
    },
    {
     "ename": "TypeError",
     "evalue": "set_global_opts() got an unexpected keyword argument 'label_opts'",
     "output_type": "error",
     "traceback": [
      "\u001B[1;31m---------------------------------------------------------------------------\u001B[0m",
      "\u001B[1;31mTypeError\u001B[0m                                 Traceback (most recent call last)",
      "Input \u001B[1;32mIn [3]\u001B[0m, in \u001B[0;36m<cell line: 50>\u001B[1;34m()\u001B[0m\n\u001B[0;32m     46\u001B[0m    tree_data\u001B[38;5;241m.\u001B[39mappend({\u001B[38;5;124m\"\u001B[39m\u001B[38;5;124mname\u001B[39m\u001B[38;5;124m\"\u001B[39m:row[\u001B[38;5;124m'\u001B[39m\u001B[38;5;124m栏目\u001B[39m\u001B[38;5;124m'\u001B[39m],\u001B[38;5;124m\"\u001B[39m\u001B[38;5;124mvalue\u001B[39m\u001B[38;5;124m\"\u001B[39m:row[\u001B[38;5;124m'\u001B[39m\u001B[38;5;124m平均阅读数量\u001B[39m\u001B[38;5;124m'\u001B[39m],\u001B[38;5;124m\"\u001B[39m\u001B[38;5;124mpercentage\u001B[39m\u001B[38;5;124m\"\u001B[39m:read_percentage})\n\u001B[0;32m     48\u001B[0m \u001B[38;5;66;03m# 创建TreeMap图表\u001B[39;00m\n\u001B[0;32m     49\u001B[0m treemap \u001B[38;5;241m=\u001B[39m (\n\u001B[1;32m---> 50\u001B[0m    \u001B[43mTreeMap\u001B[49m\u001B[43m(\u001B[49m\u001B[43m)\u001B[49m\n\u001B[0;32m     51\u001B[0m \u001B[43m   \u001B[49m\u001B[38;5;241;43m.\u001B[39;49m\u001B[43madd\u001B[49m\u001B[43m(\u001B[49m\u001B[43mseries_name\u001B[49m\u001B[38;5;241;43m=\u001B[39;49m\u001B[38;5;124;43m\"\u001B[39;49m\u001B[38;5;124;43m\"\u001B[39;49m\u001B[43m,\u001B[49m\u001B[43mdata\u001B[49m\u001B[38;5;241;43m=\u001B[39;49m\u001B[43mtree_data\u001B[49m\u001B[43m,\u001B[49m\u001B[43mroam\u001B[49m\u001B[38;5;241;43m=\u001B[39;49m\u001B[38;5;124;43m\"\u001B[39;49m\u001B[38;5;124;43mmove\u001B[39;49m\u001B[38;5;124;43m\"\u001B[39;49m\u001B[43m,\u001B[49m\u001B[43mleaf_depth\u001B[49m\u001B[38;5;241;43m=\u001B[39;49m\u001B[38;5;241;43m2\u001B[39;49m\u001B[43m)\u001B[49m\n\u001B[0;32m     52\u001B[0m \u001B[43m   \u001B[49m\u001B[38;5;241;43m.\u001B[39;49m\u001B[43mset_global_opts\u001B[49m\u001B[43m(\u001B[49m\n\u001B[0;32m     53\u001B[0m \u001B[43m       \u001B[49m\u001B[43mtitle_opts\u001B[49m\u001B[38;5;241;43m=\u001B[39;49m\u001B[43mopts\u001B[49m\u001B[38;5;241;43m.\u001B[39;49m\u001B[43mTitleOpts\u001B[49m\u001B[43m(\u001B[49m\u001B[43mtitle\u001B[49m\u001B[38;5;241;43m=\u001B[39;49m\u001B[38;5;124;43m\"\u001B[39;49m\u001B[38;5;124;43m栏目平均阅读数量\u001B[39;49m\u001B[38;5;124;43m\"\u001B[39;49m\u001B[43m)\u001B[49m\u001B[43m,\u001B[49m\n\u001B[0;32m     54\u001B[0m \u001B[43m       \u001B[49m\u001B[43mtooltip_opts\u001B[49m\u001B[38;5;241;43m=\u001B[39;49m\u001B[43mopts\u001B[49m\u001B[38;5;241;43m.\u001B[39;49m\u001B[43mTooltipOpts\u001B[49m\u001B[43m(\u001B[49m\n\u001B[0;32m     55\u001B[0m \u001B[43m           \u001B[49m\u001B[43mformatter\u001B[49m\u001B[38;5;241;43m=\u001B[39;49m\u001B[43mJsCode\u001B[49m\u001B[43m(\u001B[49m\u001B[38;5;124;43m\"\"\"\u001B[39;49m\n\u001B[0;32m     56\u001B[0m \u001B[38;5;124;43m               function (params) \u001B[39;49m\u001B[38;5;124;43m{\u001B[39;49m\n\u001B[0;32m     57\u001B[0m \u001B[38;5;124;43m                   return params.name + \u001B[39;49m\u001B[38;5;124;43m'\u001B[39;49m\u001B[38;5;124;43m:\u001B[39;49m\u001B[38;5;124;43m'\u001B[39;49m\u001B[38;5;124;43m + params.value + \u001B[39;49m\u001B[38;5;124;43m'\u001B[39;49m\u001B[38;5;124;43m (\u001B[39;49m\u001B[38;5;124;43m'\u001B[39;49m\u001B[38;5;124;43m + params.data.percentage.toFixed(1) + \u001B[39;49m\u001B[38;5;124;43m'\u001B[39;49m\u001B[38;5;124;43m%\u001B[39;49m\u001B[38;5;124;43m)\u001B[39;49m\u001B[38;5;124;43m'\u001B[39;49m\u001B[38;5;124;43m;\u001B[39;49m\n\u001B[0;32m     58\u001B[0m \u001B[38;5;124;43m               }\u001B[39;49m\n\u001B[0;32m     59\u001B[0m \u001B[38;5;124;43m           \u001B[39;49m\u001B[38;5;124;43m\"\"\"\u001B[39;49m\u001B[43m)\u001B[49m\n\u001B[0;32m     60\u001B[0m \u001B[43m       \u001B[49m\u001B[43m)\u001B[49m\u001B[43m,\u001B[49m\n\u001B[0;32m     61\u001B[0m \u001B[43m       \u001B[49m\u001B[43mlabel_opts\u001B[49m\u001B[38;5;241;43m=\u001B[39;49m\u001B[43mopts\u001B[49m\u001B[38;5;241;43m.\u001B[39;49m\u001B[43mLabelOpts\u001B[49m\u001B[43m(\u001B[49m\n\u001B[0;32m     62\u001B[0m \u001B[43m           \u001B[49m\u001B[43mfont_size\u001B[49m\u001B[38;5;241;43m=\u001B[39;49m\u001B[38;5;241;43m14\u001B[39;49m\u001B[43m  \u001B[49m\u001B[38;5;66;43;03m# 设置标签字体大小为 14\u001B[39;49;00m\n\u001B[0;32m     63\u001B[0m \u001B[43m       \u001B[49m\u001B[43m)\u001B[49m\n\u001B[0;32m     64\u001B[0m \u001B[43m   \u001B[49m\u001B[43m)\u001B[49m\n\u001B[0;32m     65\u001B[0m )\n\u001B[0;32m     66\u001B[0m \u001B[38;5;66;03m# 渲染图表到HTML文件\u001B[39;00m\n\u001B[0;32m     67\u001B[0m treemap\u001B[38;5;241m.\u001B[39mrender(\u001B[38;5;124m\"\u001B[39m\u001B[38;5;124mtreemap_visualization.html\u001B[39m\u001B[38;5;124m\"\u001B[39m)\n",
      "\u001B[1;31mTypeError\u001B[0m: set_global_opts() got an unexpected keyword argument 'label_opts'"
     ]
    }
   ],
   "source": [
    "from pyecharts.commons.utils import JsCode\n",
    "import pandas as pd\n",
    "import pymysql\n",
    "from pyecharts import options as opts\n",
    "from pyecharts.charts import TreeMap\n",
    "# 数据库连接信息\n",
    "mysql_connect_config = {\n",
    "    'host': 'localhost',\n",
    "    'user': 'root',\n",
    "    'password': '123456',\n",
    "    'database': 'sohu',\n",
    "}\n",
    "# 连接到数据库\n",
    "conn = pymysql.connect(host=mysql_connect_config['host'],\n",
    "                               user=mysql_connect_config['user'],\n",
    "                               password=mysql_connect_config['password'],\n",
    "                               database=mysql_connect_config['database'],\n",
    "                               charset='utf8mb4')\n",
    "# 执行SQL查询\n",
    "sql = '''\n",
    "SELECT 栏目,ROUND(AVG(阅读数量)) AS 平均阅读数量\n",
    "FROM (\n",
    "  SELECT 栏目,阅读数量 FROM `新闻` WHERE `阅读数量` != 0\n",
    "  UNION ALL\n",
    "  SELECT 栏目,阅读数量 FROM `娱乐` WHERE `阅读数量` != 0\n",
    "  UNION ALL\n",
    "  SELECT 栏目,阅读数量 FROM `汽车` WHERE `阅读数量` != 0\n",
    "  UNION ALL\n",
    "  SELECT 栏目,阅读数量 FROM `科技` WHERE `阅读数量` != 0\n",
    "  UNION ALL\n",
    "  SELECT 栏目,阅读数量 FROM `财经` WHERE `阅读数量` != 0\n",
    ") AS combined_tables\n",
    "GROUP BY 栏目\n",
    "ORDER BY ROUND(AVG(阅读数量));\n",
    "'''\n",
    "\n",
    "# 将查询结果转换为Pandas的DataFrame对象\n",
    "df = pd.read_sql(sql,conn)\n",
    "\n",
    "total_reads = df['平均阅读数量'].sum()\n",
    "tree_data = []\n",
    "\n",
    "# 遍历DataFrame，将数据转换为标准的TreeMap数据格式，并计算比例\n",
    "for index,row in df.iterrows():\n",
    "   read_percentage = (row['平均阅读数量'] / total_reads) * 100\n",
    "   tree_data.append({\"name\":row['栏目'],\"value\":row['平均阅读数量'],\"percentage\":read_percentage})\n",
    "\n",
    "# 创建TreeMap图表\n",
    "treemap = (\n",
    "   TreeMap()\n",
    "   .add(series_name=\"\",data=tree_data,roam=\"move\",leaf_depth=2)\n",
    "   .set_global_opts(\n",
    "       title_opts=opts.TitleOpts(title=\"栏目平均阅读数量\"),\n",
    "       tooltip_opts=opts.TooltipOpts(\n",
    "           formatter=JsCode(\"\"\"\n",
    "               function (params) {\n",
    "                   return params.name + ':' + params.value + ' (' + params.data.percentage.toFixed(1) + '%)';\n",
    "               }\n",
    "           \"\"\")\n",
    "       ),\n",
    "       label_opts=opts.LabelOpts(\n",
    "           font_size=14  # 设置标签字体大小为 14\n",
    "       )\n",
    "   )\n",
    ")\n",
    "# 渲染图表到HTML文件\n",
    "treemap.render(\"treemap_visualization.html\")"
   ],
   "metadata": {
    "collapsed": false,
    "ExecuteTime": {
     "start_time": "2024-04-30T00:35:35.680468Z",
     "end_time": "2024-04-30T00:35:36.503903Z"
    }
   }
  },
  {
   "cell_type": "code",
   "execution_count": null,
   "outputs": [],
   "source": [],
   "metadata": {
    "collapsed": false
   }
  }
 ],
 "metadata": {
  "kernelspec": {
   "display_name": "Python 3",
   "language": "python",
   "name": "python3"
  },
  "language_info": {
   "codemirror_mode": {
    "name": "ipython",
    "version": 2
   },
   "file_extension": ".py",
   "mimetype": "text/x-python",
   "name": "python",
   "nbconvert_exporter": "python",
   "pygments_lexer": "ipython2",
   "version": "2.7.6"
  }
 },
 "nbformat": 4,
 "nbformat_minor": 0
}
