{
 "cells": [
  {
   "cell_type": "code",
   "execution_count": 1,
   "id": "initial_id",
   "metadata": {
    "collapsed": true,
    "ExecuteTime": {
     "end_time": "2024-02-28T02:41:03.661189900Z",
     "start_time": "2024-02-28T02:41:03.207754200Z"
    }
   },
   "outputs": [
    {
     "name": "stdout",
     "output_type": "stream",
     "text": [
      "89\n",
      "[10084630781082, 10084630781083, 10069522210709, 1981422411, 1981422408, 1981434236, 27316138187, 27316138188, 10075768678650, 10027841233417, 10027841233418, 10044419954474, 10044419954475, 10067293903172, 10067293903173, 41416460117, 41416460118, 42657071545, 42657071546, 10067291998893, 10067291998894, 10087832227175, 10094006603227, 10074971866806, 10074971866807, 10074975552348, 10074975552349, 10042091770659, 10042091770660, 10024631811830, 10039466183541, 10023676852119, 10020893917289, 10020893917288, 10021348808412, 10020893917287, 10086510994724, 10081270888473, 69387115632, 50857525655, 1953379242, 10072564589129, 10072564589130, 10026029754708, 10026029754706, 10026029754704, 10078929374155, 58578773439, 58998522101, 10033590754695, 10034451979503, 48119350329, 57959952187, 10068635507229, 10068635507230, 10027835544873, 10027835544875, 10027835544877, 10079128118045, 72023783462, 10024753821005, 10021815366303, 10078663387639, 10085933976215, 10042570297549, 10039155768241, 1964826609, 1964826610, 42659168547, 42659168548, 45917105264, 45917105265, 43581271566, 10031572731722, 10031572731723, 10092431505263, 10022273793329, 10035538250005, 53200125166, 10032299049571, 10031158963830, 10031158963828, 10031158963829, 10031158963826, 10031158963827, 10031158963825, 10034273793567, 10049745737065, 10029183852649]\n",
      "89\n"
     ]
    }
   ],
   "source": [
    "import pandas as pd\n",
    "add_data_path = r'C:\\Users\\EDY\\Desktop\\data\\JD\\查完销量\\GNC-测试.xlsx'\n",
    "add_data = pd.read_excel(add_data_path)\n",
    "print(len(add_data['SKU'].tolist()))\n",
    "sku_list = add_data[(add_data['周成交单量'].isnull()) & (add_data['月成交单量'].isnull())]['SKU'].tolist()\n",
    "# print(add_data['周成交单量'])\n",
    "print(sku_list)\n",
    "print(len(sku_list))"
   ]
  },
  {
   "cell_type": "code",
   "execution_count": 1,
   "outputs": [
    {
     "name": "stdout",
     "output_type": "stream",
     "text": [
      "    索引                         关键词  \\\n",
      "0    1        GNC健安喜硒元素片100MCG100片   \n",
      "1    2        GNC健安喜硒元素片100MCG100片   \n",
      "2    3        GNC健安喜硒元素片100MCG100片   \n",
      "3    3        GNC健安喜硒元素片100MCG100片   \n",
      "4    3        GNC健安喜硒元素片100MCG100片   \n",
      "..  ..                         ...   \n",
      "157                                  \n",
      "158  2  健安喜四倍鱼油迷你软胶囊  （800mg 120粒）   \n",
      "159  3  健安喜四倍鱼油迷你软胶囊  （800mg 120粒）   \n",
      "160                                  \n",
      "161  1  健安喜四倍鱼油迷你软胶囊  （800mg 240粒）   \n",
      "\n",
      "                                                    标题  \\\n",
      "0           健安喜 GNC 硒元素片有机硒片补硒提高免疫力 海外原装进口 100mcg*100片   \n",
      "1    GNC健安喜 富硒元素片selenium成人中老年人天然酵母硒 麦芽硒片 美国原装 硒元素1...   \n",
      "2    健安喜GNC 硒片有机富硒元素片成人补硒缺硒微量元素增强免疫力酵母硒 美国进口 100mcg...   \n",
      "3    健安喜GNC 硒片有机富硒元素片成人补硒缺硒微量元素增强免疫力酵母硒 美国进口 VE软胶囊1...   \n",
      "4    健安喜GNC 硒片有机富硒元素片成人补硒缺硒微量元素增强免疫力酵母硒 美国进口 100mcg...   \n",
      "..                                                 ...   \n",
      "157                                                      \n",
      "158       GNC健安喜 四倍浓缩鱼油胶囊 88%高浓度欧米茄3 铂金深海鱼油60240海外原装进口   \n",
      "159  GNC健安喜皇冠鱼油高纯度深海鱼油软胶囊三倍功效高含量Omega-3欧米伽3DHA+EPA ...   \n",
      "160                                                      \n",
      "161  GNC健安喜  鱼油软胶囊  无腥味 呵护心脑眼 四倍迷你鱼油240粒 Omega-31328mg   \n",
      "\n",
      "                                           属性                 店铺         发货地区  \\\n",
      "0                                 100mcg*100片    GNC健安喜营养保健海外旗舰店      广州南沙保税区   \n",
      "1    GNC健安喜 富硒元素片selenium成人中老年人天然酵母硒 麦芽硒 美国原装         GNC海外官方旗舰店    宁波北仑保税平台仓   \n",
      "2                   100mcg硒元素片100片*3瓶 每日1粒排毒素         QLife海外专营店    宁波北仑保税平台仓   \n",
      "3                            VE软胶囊100粒 每日1-2粒         QLife海外专营店           无货   \n",
      "4                   100mcg硒元素片100片*2瓶 每日1粒排毒素         QLife海外专营店    宁波北仑保税平台仓   \n",
      "..                                        ...                ...          ...   \n",
      "157                                                                             \n",
      "158                             四倍鱼油迷你软胶囊120粒  HIHEALTH营养保健海外专营店           无货   \n",
      "159                                    四倍120粒      SEAWHALE海外旗舰店  南昌综保保税平台协同仓   \n",
      "160                                                                             \n",
      "161                  四倍迷你鱼油240粒 Omega-31328mg         沃尔玛海外官方旗舰店    福州平潭保税协同仓   \n",
      "\n",
      "                                          商品链接   评论数 周成交单量  月成交单量    价格1  \\\n",
      "0    https://npcitem.jd.hk/10084630781082.html  200+   9.0   35.0   45.0   \n",
      "1    https://npcitem.jd.hk/10069522210709.html  200+  45.0  114.0   42.9   \n",
      "2        https://npcitem.jd.hk/1981422411.html  500+   0.0    3.0  102.0   \n",
      "3       https://npcitem.jd.hk/27316138187.html  500+     /    0.0     无货   \n",
      "4       https://npcitem.jd.hk/27316138188.html  500+   0.0    1.0   93.0   \n",
      "..                                         ...   ...   ...    ...    ...   \n",
      "157                                                                        \n",
      "158  https://npcitem.jd.hk/10073963339494.html   10+     /      /     无货   \n",
      "159  https://npcitem.jd.hk/10087980390908.html   10+   0.0    0.0  159.0   \n",
      "160                                                                        \n",
      "161  https://npcitem.jd.hk/10073184761015.html  200+  40.0  122.0  284.0   \n",
      "\n",
      "    拍2件平均价 拍3件平均价             SKU  \n",
      "0     45.0   45.0  10084630781082  \n",
      "1     39.0   39.0  10069522210709  \n",
      "2    177.0      /      1981422411  \n",
      "3       无货     无货     27316138187  \n",
      "4    101.0  118.0     27316138188  \n",
      "..     ...    ...             ...  \n",
      "157                                \n",
      "158     无货     无货  10073963339494  \n",
      "159  132.0  138.0  10087980390908  \n",
      "160                                \n",
      "161  242.0  242.0  10073184761015  \n",
      "\n",
      "[162 rows x 14 columns]\n"
     ]
    }
   ],
   "source": [
    "import pandas as pd\n",
    "df = pd.read_excel(r'C:\\Users\\EDY\\Desktop\\data\\JD\\导出价格\\jd-GNC1-20.xlsx')\n",
    "df['价格1'] = df['价格1'].apply(lambda x: float(str(x).replace(\"¥\", '').replace('.00', '')) if str(x).replace(\"¥\", '').replace('.00', '').replace('.', '', 1).isdigit() else x)\n",
    "df['价格2'] = df['价格2'].apply(lambda x: float(str(x).replace(\"¥\", '').replace('.00', '')) // 2 if str(x).replace(\"¥\", '').replace('.00', '').replace('.', '', 1).isdigit() else x)\n",
    "df['价格3'] = df['价格3'].apply(lambda x: float(str(x).replace(\"¥\", '').replace('.00', '')) // 3 if str(x).replace(\"¥\", '').replace('.00', '').replace('.', '', 1).isdigit() else x)\n",
    "\n",
    "columns_to_fill = ['周成交单量', '月成交单量', '发货地区']\n",
    "value_to_fill = '/'  # 你想要替换的值\n",
    "\n",
    "df[columns_to_fill] = df[columns_to_fill].fillna(value_to_fill)\n",
    "df.rename(columns={'价格2': '拍2件平均价', '价格3': '拍3件平均价'}, inplace=True)\n",
    "\n",
    "# 转换成列表的形式\n",
    "list_of_lists = df.values.tolist()\n",
    "\n",
    "# 遍历列表，根据需要插入空字符串列表\n",
    "result = []\n",
    "prev_col2_value = None  # 用于存储上一行的col2的值\n",
    "x = 0\n",
    "for i, item in enumerate(list_of_lists):\n",
    "    result.append(item)\n",
    "    if prev_col2_value is not None and item[1] != prev_col2_value:\n",
    "        result.insert(i+x, [''] * len(df.columns))  # 在需要的地方插入空行\n",
    "        x += 1\n",
    "    prev_col2_value = item[1]\n",
    "\n",
    "# 将列表转回DataFrame\n",
    "new_df = pd.DataFrame(result, columns=df.columns)\n",
    "print(new_df)\n",
    "new_df.to_excel(r'C:\\Users\\EDY\\Desktop\\data\\JD\\导出价格\\jd-GNC 1-20.xlsx', index=False)"
   ],
   "metadata": {
    "collapsed": false,
    "ExecuteTime": {
     "end_time": "2024-03-04T08:37:24.790033Z",
     "start_time": "2024-03-04T08:37:24.215286300Z"
    }
   },
   "id": "4f64d91f9f01d27"
  },
  {
   "cell_type": "code",
   "execution_count": 4,
   "outputs": [
    {
     "name": "stdout",
     "output_type": "stream",
     "text": [
      "没有找到运行在端口 9225 上的进程\n"
     ]
    }
   ],
   "source": [
    "import psutil\n",
    "def find_process_by_port(port):\n",
    "    for conn in psutil.net_connections(kind='inet'):\n",
    "        if conn.laddr.port == port:\n",
    "            return psutil.Process(conn.pid)\n",
    "    return None\n",
    "\n",
    "\n",
    "def kill_process_by_port(port):\n",
    "    proc = find_process_by_port(port)\n",
    "    if proc:\n",
    "        print(f\"找到进程 {proc.name()} 在端口 {port} 上运行，正在结束进程...\")\n",
    "        proc.kill()\n",
    "    else:\n",
    "        print(f\"没有找到运行在端口 {port} 上的进程\")\n",
    "kill_process_by_port(9225)"
   ],
   "metadata": {
    "collapsed": false,
    "ExecuteTime": {
     "end_time": "2024-03-05T04:43:19.142898900Z",
     "start_time": "2024-03-05T04:43:19.139896400Z"
    }
   },
   "id": "1706a7f5d41a0f8"
  }
 ],
 "metadata": {
  "kernelspec": {
   "display_name": "Python 3",
   "language": "python",
   "name": "python3"
  },
  "language_info": {
   "codemirror_mode": {
    "name": "ipython",
    "version": 2
   },
   "file_extension": ".py",
   "mimetype": "text/x-python",
   "name": "python",
   "nbconvert_exporter": "python",
   "pygments_lexer": "ipython2",
   "version": "2.7.6"
  }
 },
 "nbformat": 4,
 "nbformat_minor": 5
}
